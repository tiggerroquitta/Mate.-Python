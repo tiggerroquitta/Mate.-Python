{
 "cells": [
  {
   "cell_type": "code",
   "execution_count": null,
   "metadata": {},
   "outputs": [],
   "source": []
  },
  {
   "cell_type": "markdown",
   "metadata": {},
   "source": [
    "# Trabajo 1\n",
    "## Trabajo 2\n",
    "### Trabajo 3\n",
    "#### Trabajo 4"
   ]
  },
  {
   "cell_type": "markdown",
   "metadata": {},
   "source": [
    "- Curso 1\n",
    "  - Curso 2\n",
    "    - Curso 3\n",
    "    "
   ]
  },
  {
   "cell_type": "code",
   "execution_count": 4,
   "metadata": {},
   "outputs": [
    {
     "name": "stdout",
     "output_type": "stream",
     "text": [
      "La suma es: 14\n"
     ]
    }
   ],
   "source": [
    "num1 = input(\"Ingrese un numero\")\n",
    "num2 = input(\"Ingrese un numero\")\n",
    "total = int(num1) + int(num2)\n",
    "print(\"La suma es:\", total)\n"
   ]
  },
  {
   "cell_type": "code",
   "execution_count": 26,
   "metadata": {},
   "outputs": [
    {
     "name": "stdout",
     "output_type": "stream",
     "text": [
      "[]\n"
     ]
    }
   ],
   "source": [
    "lista = [\"a\", 1, 2, 3]\n",
    "#append sirve par agregar elementos\n",
    "lista.append(2)\n",
    "#pop sirve para eliminar un elemento de una posición indicada\n",
    "lista.pop(0)\n",
    "#sort sirve paa ordenar los elementos de una lista\n",
    "lista.sort()\n",
    "#reverse para inertir el orden\n",
    "lista.reverse()\n",
    "#clear sirve para eliminar todos los elements de la lista\n",
    "lista.clear()\n",
    "print(lista)\n"
   ]
  },
  {
   "cell_type": "code",
   "execution_count": 38,
   "metadata": {},
   "outputs": [
    {
     "data": {
      "text/plain": [
       "['arroz']"
      ]
     },
     "execution_count": 38,
     "metadata": {},
     "output_type": "execute_result"
    }
   ],
   "source": [
    "productos =[]\n",
    "producto = input(\"ingrese el producto\")\n",
    "productos.append(producto)\n",
    "productos"
   ]
  },
  {
   "cell_type": "code",
   "execution_count": 41,
   "metadata": {},
   "outputs": [
    {
     "name": "stdout",
     "output_type": "stream",
     "text": [
      "5\n",
      "1\n"
     ]
    },
    {
     "data": {
      "text/plain": [
       "(1, 2, 2, 3, 3, 4, 3, 3, 3)"
      ]
     },
     "execution_count": 41,
     "metadata": {},
     "output_type": "execute_result"
    }
   ],
   "source": [
    "tupla = (1,2,2,3,3,4,3,3,3)\n",
    "#count sirve para conocer el numero de veces que se repite un elemento\n",
    "print(tupla.count(3))\n",
    "#index para conocer la posición en la que se encuentra un elemento\n",
    "print(tupla.index(2))\n",
    "tupla "
   ]
  },
  {
   "cell_type": "code",
   "execution_count": 47,
   "metadata": {},
   "outputs": [
    {
     "data": {
      "text/plain": [
       "{'perro': 'dog'}"
      ]
     },
     "execution_count": 47,
     "metadata": {},
     "output_type": "execute_result"
    }
   ],
   "source": [
    "diccionario = {\"gato\": \"cat\",\n",
    "               \"perro\": \"dog\" \n",
    "}\n",
    "#get es para obtener el valor de una clave\n",
    "diccionario.get(\"gato\")\n",
    "#keys\n",
    "diccionario.keys()\n",
    "#values\n",
    "diccionario.values()\n",
    "#items\n",
    "diccionario.items()\n",
    "#pop \"clave\"\n",
    "diccionario.pop(\"gato\")\n",
    "diccionario"
   ]
  },
  {
   "cell_type": "code",
   "execution_count": 33,
   "metadata": {},
   "outputs": [
    {
     "name": "stdout",
     "output_type": "stream",
     "text": [
      "Hola-Mundo-Certus\n",
      "Buenos-Dias\n"
     ]
    }
   ],
   "source": [
    "print(\"Hola\",\"Mundo\",\"Certus\",sep=\"-\", end=\"\\n\")\n",
    "print(\"Buenos\",\"Dias\",sep=\"-\")"
   ]
  },
  {
   "cell_type": "code",
   "execution_count": 48,
   "metadata": {},
   "outputs": [
    {
     "data": {
      "text/plain": [
       "{'codigo': ['1', '2', '3'], 'nombre': ['juanito', 'rosita', 'rigoberto']}"
      ]
     },
     "execution_count": 48,
     "metadata": {},
     "output_type": "execute_result"
    }
   ],
   "source": [
    "clientes = {\n",
    "    \"codigo\": [\"1\", \"2\"],\n",
    "    \"nombre\": [\"juanito\", \"rosita\"]\n",
    "}\n",
    "clientes[\"codigo\"].append(\"3\")\n",
    "clientes[\"nombre\"].append(\"rigoberto\")\n",
    "clientes\n"
   ]
  },
  {
   "cell_type": "code",
   "execution_count": 56,
   "metadata": {},
   "outputs": [
    {
     "name": "stdout",
     "output_type": "stream",
     "text": [
      "tu edad no puede ser 0\n"
     ]
    }
   ],
   "source": [
    "edad=0\n",
    "if edad>=18:\n",
    "    print(\"mayor de edad\")\n",
    "elif edad<=0:\n",
    "    print(\"tu edad no puede ser 0\")\n",
    "else:\n",
    "    print(\"menor de edad\")"
   ]
  },
  {
   "cell_type": "code",
   "execution_count": 66,
   "metadata": {},
   "outputs": [
    {
     "name": "stdout",
     "output_type": "stream",
     "text": [
      "0\n",
      "2\n",
      "4\n",
      "6\n",
      "8\n"
     ]
    }
   ],
   "source": [
    "for i in range(10):\n",
    "    if i%2==0:\n",
    "        print(i)"
   ]
  },
  {
   "cell_type": "code",
   "execution_count": 68,
   "metadata": {},
   "outputs": [
    {
     "name": "stdout",
     "output_type": "stream",
     "text": [
      "1\n",
      "3\n",
      "5\n",
      "7\n",
      "9\n"
     ]
    }
   ],
   "source": [
    "for i in range(10):\n",
    "    if i%2!=0:\n",
    "        print(i)"
   ]
  },
  {
   "cell_type": "code",
   "execution_count": 62,
   "metadata": {},
   "outputs": [
    {
     "name": "stdout",
     "output_type": "stream",
     "text": [
      "ashdh\n"
     ]
    }
   ],
   "source": [
    "cantidad=10\n",
    "edad=0\n",
    "if (cantidad >=10 and edad<=10):\n",
    "    print(\"ashdh\")"
   ]
  },
  {
   "cell_type": "markdown",
   "metadata": {},
   "source": [
    "**Este es el texto 1**\n",
    "\n",
    "<b>Este es el texto 2<b>\n",
    "\n",
    "__Este es el texto 3__"
   ]
  },
  {
   "cell_type": "code",
   "execution_count": 3,
   "metadata": {},
   "outputs": [
    {
     "data": {
      "text/plain": [
       "'trabajao de la sesión 2\\njggekgjegk\\njegjegogeo\\n'"
      ]
     },
     "execution_count": 3,
     "metadata": {},
     "output_type": "execute_result"
    }
   ],
   "source": [
    "# trabajo de la sesión 1\n",
    "\"\"\"trabajao de la sesión 2\n",
    "jggekgjegk\n",
    "jegjegogeo\n",
    "\"\"\"\n",
    "\n"
   ]
  },
  {
   "cell_type": "code",
   "execution_count": 5,
   "metadata": {},
   "outputs": [
    {
     "name": "stdout",
     "output_type": "stream",
     "text": [
      "Hola mundo Hola mundo\n"
     ]
    }
   ],
   "source": [
    "print(\"Hola mundo\",\"Hola mundo\") "
   ]
  },
  {
   "cell_type": "code",
   "execution_count": 9,
   "metadata": {},
   "outputs": [
    {
     "data": {
      "text/plain": [
       "str"
      ]
     },
     "execution_count": 9,
     "metadata": {},
     "output_type": "execute_result"
    }
   ],
   "source": [
    "var=\"hola mundo\"\n",
    "type(var)"
   ]
  },
  {
   "cell_type": "markdown",
   "metadata": {},
   "source": [
    "[Example link](https://campusdigital.certus.edu.pe/mod/folder/view.php?id=4317583)"
   ]
  },
  {
   "cell_type": "code",
   "execution_count": 10,
   "metadata": {},
   "outputs": [
    {
     "data": {
      "text/plain": [
       "str"
      ]
     },
     "execution_count": 10,
     "metadata": {},
     "output_type": "execute_result"
    }
   ],
   "source": [
    "var=\"MATEMÁT APLIC DES Y SOP DE SIS\"\n",
    "type(var)"
   ]
  },
  {
   "cell_type": "code",
   "execution_count": 11,
   "metadata": {},
   "outputs": [],
   "source": [
    "var2=\"Ciclo 1\""
   ]
  },
  {
   "cell_type": "code",
   "execution_count": 12,
   "metadata": {},
   "outputs": [
    {
     "name": "stdout",
     "output_type": "stream",
     "text": [
      "Bienvenidos al curso MATEMÁT APLIC DES Y SOP DE SIS del Ciclo 1\n"
     ]
    }
   ],
   "source": [
    "print(\"Bienvenidos al curso\",var, \"del\",var2)"
   ]
  },
  {
   "cell_type": "markdown",
   "metadata": {},
   "source": [
    "![Certus](https://www.certus.edu.pe/wp-content/uploads/2021/07/logo-certus-compartir.jpg)"
   ]
  }
 ],
 "metadata": {
  "kernelspec": {
   "display_name": "Python 3.9.12 ('base')",
   "language": "python",
   "name": "python3"
  },
  "language_info": {
   "codemirror_mode": {
    "name": "ipython",
    "version": 3
   },
   "file_extension": ".py",
   "mimetype": "text/x-python",
   "name": "python",
   "nbconvert_exporter": "python",
   "pygments_lexer": "ipython3",
   "version": "3.9.12"
  },
  "orig_nbformat": 4,
  "vscode": {
   "interpreter": {
    "hash": "ad2bdc8ecc057115af97d19610ffacc2b4e99fae6737bb82f5d7fb13d2f2c186"
   }
  }
 },
 "nbformat": 4,
 "nbformat_minor": 2
}
